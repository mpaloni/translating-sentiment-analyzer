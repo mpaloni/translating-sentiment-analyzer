{
 "cells": [
  {
   "cell_type": "code",
   "execution_count": null,
   "id": "c3cd1c60-5c31-4e6c-be08-95c15605ed28",
   "metadata": {},
   "outputs": [],
   "source": [
    "from TranslatorClass import TranslatorClass\n",
    "from SentimentAnalyserClass import SentimentAnalyserClass\n",
    "from pprint import pprint"
   ]
  },
  {
   "cell_type": "code",
   "execution_count": null,
   "id": "672ff454-5cdd-483f-962c-f70d815a85ac",
   "metadata": {},
   "outputs": [
    {
     "name": "stdout",
     "output_type": "stream",
     "text": [
      "Collecting spacy[transformers]\n",
      "  Downloading spacy-3.5.0-cp39-cp39-manylinux_2_17_x86_64.manylinux2014_x86_64.whl (6.6 MB)\n",
      "\u001b[2K     \u001b[90m━━━━━━━━━━━━━━━━━━━━━━━━━━━━━━━━━━━━━━━━\u001b[0m \u001b[32m6.6/6.6 MB\u001b[0m \u001b[31m46.2 MB/s\u001b[0m eta \u001b[36m0:00:00\u001b[0m00:01\u001b[0m00:01\u001b[0m\n",
      "\u001b[?25hCollecting torch\n",
      "  Downloading torch-1.13.1-cp39-cp39-manylinux1_x86_64.whl (887.4 MB)\n",
      "\u001b[2K     \u001b[90m━━━━━━━━━━━━━━━━━━━━━━━━━━━━━━━━━━━━━━━\u001b[0m \u001b[32m887.4/887.4 MB\u001b[0m \u001b[31m5.0 MB/s\u001b[0m eta \u001b[36m0:00:00\u001b[0m00:01\u001b[0m00:02\u001b[0m\n",
      "\u001b[?25hCollecting spacytextblob\n",
      "  Downloading spacytextblob-4.0.0-py3-none-any.whl (4.5 kB)\n",
      "Collecting murmurhash<1.1.0,>=0.28.0\n",
      "  Downloading murmurhash-1.0.9-cp39-cp39-manylinux_2_5_x86_64.manylinux1_x86_64.manylinux_2_17_x86_64.manylinux2014_x86_64.whl (21 kB)\n",
      "Collecting thinc<8.2.0,>=8.1.0\n",
      "  Downloading thinc-8.1.7-cp39-cp39-manylinux_2_17_x86_64.manylinux2014_x86_64.whl (825 kB)\n",
      "\u001b[2K     \u001b[90m━━━━━━━━━━━━━━━━━━━━━━━━━━━━━━━━━━━━━━\u001b[0m \u001b[32m825.4/825.4 KB\u001b[0m \u001b[31m14.5 MB/s\u001b[0m eta \u001b[36m0:00:00\u001b[0ma \u001b[36m0:00:01\u001b[0m\n",
      "\u001b[?25hRequirement already satisfied: packaging>=20.0 in /opt/conda/lib/python3.9/site-packages (from spacy[transformers]) (21.3)\n",
      "Collecting srsly<3.0.0,>=2.4.3\n",
      "  Downloading srsly-2.4.5-cp39-cp39-manylinux_2_17_x86_64.manylinux2014_x86_64.whl (490 kB)\n",
      "\u001b[2K     \u001b[90m━━━━━━━━━━━━━━━━━━━━━━━━━━━━━━━━━━━━━━\u001b[0m \u001b[32m490.7/490.7 KB\u001b[0m \u001b[31m17.5 MB/s\u001b[0m eta \u001b[36m0:00:00\u001b[0m\n",
      "\u001b[?25hRequirement already satisfied: jinja2 in /opt/conda/lib/python3.9/site-packages (from spacy[transformers]) (3.1.1)\n",
      "Collecting preshed<3.1.0,>=3.0.2\n",
      "  Downloading preshed-3.0.8-cp39-cp39-manylinux_2_5_x86_64.manylinux1_x86_64.manylinux_2_17_x86_64.manylinux2014_x86_64.whl (128 kB)\n",
      "\u001b[2K     \u001b[90m━━━━━━━━━━━━━━━━━━━━━━━━━━━━━━━━━━━━━━\u001b[0m \u001b[32m128.7/128.7 KB\u001b[0m \u001b[31m20.1 MB/s\u001b[0m eta \u001b[36m0:00:00\u001b[0m\n",
      "\u001b[?25hCollecting pydantic!=1.8,!=1.8.1,<1.11.0,>=1.7.4\n",
      "  Downloading pydantic-1.10.5-cp39-cp39-manylinux_2_17_x86_64.manylinux2014_x86_64.whl (3.2 MB)\n",
      "\u001b[2K     \u001b[90m━━━━━━━━━━━━━━━━━━━━━━━━━━━━━━━━━━━━━━━━\u001b[0m \u001b[32m3.2/3.2 MB\u001b[0m \u001b[31m22.3 MB/s\u001b[0m eta \u001b[36m0:00:00\u001b[0m00:01\u001b[0m00:01\u001b[0m\n",
      "\u001b[?25hRequirement already satisfied: tqdm<5.0.0,>=4.38.0 in /opt/conda/lib/python3.9/site-packages (from spacy[transformers]) (4.64.0)\n",
      "Requirement already satisfied: requests<3.0.0,>=2.13.0 in /opt/conda/lib/python3.9/site-packages (from spacy[transformers]) (2.27.1)\n",
      "Collecting smart-open<7.0.0,>=5.2.1\n",
      "  Downloading smart_open-6.3.0-py3-none-any.whl (56 kB)\n",
      "\u001b[2K     \u001b[90m━━━━━━━━━━━━━━━━━━━━━━━━━━━━━━━━━━━━━━━━\u001b[0m \u001b[32m56.8/56.8 KB\u001b[0m \u001b[31m29.9 MB/s\u001b[0m eta \u001b[36m0:00:00\u001b[0m\n",
      "\u001b[?25hCollecting langcodes<4.0.0,>=3.2.0\n",
      "  Downloading langcodes-3.3.0-py3-none-any.whl (181 kB)\n",
      "\u001b[2K     \u001b[90m━━━━━━━━━━━━━━━━━━━━━━━━━━━━━━━━━━━━━━\u001b[0m \u001b[32m181.6/181.6 KB\u001b[0m \u001b[31m25.8 MB/s\u001b[0m eta \u001b[36m0:00:00\u001b[0m\n",
      "\u001b[?25hCollecting catalogue<2.1.0,>=2.0.6\n",
      "  Downloading catalogue-2.0.8-py3-none-any.whl (17 kB)\n",
      "Collecting pathy>=0.10.0\n",
      "  Downloading pathy-0.10.1-py3-none-any.whl (48 kB)\n",
      "\u001b[2K     \u001b[90m━━━━━━━━━━━━━━━━━━━━━━━━━━━━━━━━━━━━━━━━\u001b[0m \u001b[32m48.9/48.9 KB\u001b[0m \u001b[31m30.2 MB/s\u001b[0m eta \u001b[36m0:00:00\u001b[0m\n",
      "\u001b[?25hRequirement already satisfied: numpy>=1.15.0 in /opt/conda/lib/python3.9/site-packages (from spacy[transformers]) (1.21.6)\n",
      "Collecting spacy-loggers<2.0.0,>=1.0.0\n",
      "  Downloading spacy_loggers-1.0.4-py3-none-any.whl (11 kB)\n",
      "Collecting wasabi<1.2.0,>=0.9.1\n",
      "  Downloading wasabi-1.1.1-py3-none-any.whl (27 kB)\n",
      "Collecting cymem<2.1.0,>=2.0.2\n",
      "  Downloading cymem-2.0.7-cp39-cp39-manylinux_2_17_x86_64.manylinux2014_x86_64.whl (35 kB)\n",
      "Requirement already satisfied: setuptools in /opt/conda/lib/python3.9/site-packages (from spacy[transformers]) (62.1.0)\n",
      "Collecting spacy-legacy<3.1.0,>=3.0.11\n",
      "  Downloading spacy_legacy-3.0.12-py2.py3-none-any.whl (29 kB)\n",
      "Collecting typer<0.8.0,>=0.3.0\n",
      "  Downloading typer-0.7.0-py3-none-any.whl (38 kB)\n",
      "Collecting spacy-transformers<1.3.0,>=1.1.2\n",
      "  Downloading spacy_transformers-1.2.2-cp39-cp39-manylinux_2_17_x86_64.manylinux2014_x86_64.whl (192 kB)\n",
      "\u001b[2K     \u001b[90m━━━━━━━━━━━━━━━━━━━━━━━━━━━━━━━━━━━━━━\u001b[0m \u001b[32m192.1/192.1 KB\u001b[0m \u001b[31m24.9 MB/s\u001b[0m eta \u001b[36m0:00:00\u001b[0m\n",
      "\u001b[?25hCollecting nvidia-cuda-runtime-cu11==11.7.99\n",
      "  Downloading nvidia_cuda_runtime_cu11-11.7.99-py3-none-manylinux1_x86_64.whl (849 kB)\n",
      "\u001b[2K     \u001b[90m━━━━━━━━━━━━━━━━━━━━━━━━━━━━━━━━━━━━━━\u001b[0m \u001b[32m849.3/849.3 KB\u001b[0m \u001b[31m24.2 MB/s\u001b[0m eta \u001b[36m0:00:00\u001b[0m00:01\u001b[0m\n",
      "\u001b[?25hCollecting nvidia-cudnn-cu11==8.5.0.96\n",
      "  Downloading nvidia_cudnn_cu11-8.5.0.96-2-py3-none-manylinux1_x86_64.whl (557.1 MB)\n",
      "\u001b[2K     \u001b[90m━━━━━━━━━━━━━━━━━━━━━━━━━━━━━━━━━━━━━━━\u001b[0m \u001b[32m557.1/557.1 MB\u001b[0m \u001b[31m6.0 MB/s\u001b[0m eta \u001b[36m0:00:00\u001b[0m00:01\u001b[0m00:02\u001b[0m\n",
      "\u001b[?25hRequirement already satisfied: typing-extensions in /opt/conda/lib/python3.9/site-packages (from torch) (4.2.0)\n",
      "Collecting nvidia-cublas-cu11==11.10.3.66\n",
      "  Downloading nvidia_cublas_cu11-11.10.3.66-py3-none-manylinux1_x86_64.whl (317.1 MB)\n",
      "\u001b[2K     \u001b[91m━━━━━━━━━━━━━━━━━━━━━\u001b[0m\u001b[90m╺\u001b[0m\u001b[90m━━━━━━━━━━━━━━━━\u001b[0m \u001b[32m179.1/317.1 MB\u001b[0m \u001b[31m13.0 MB/s\u001b[0m eta \u001b[36m0:00:11\u001b[0m"
     ]
    }
   ],
   "source": [
    "!pip3 install spacy[transformers] torch spacytextblob\n",
    "!python3 -m spacy download en_core_web_sm\n"
   ]
  },
  {
   "cell_type": "markdown",
   "id": "557c685d-b3cb-45b0-8c0e-0fed68f5e2f0",
   "metadata": {},
   "source": [
    "# Original article was chosen by random scrolling\n",
    "Source is https://www.iltalehti.fi/asumisartikkelit/a/2542c345-4d98-4fdf-b957-5bf21ba98e41"
   ]
  },
  {
   "cell_type": "code",
   "execution_count": 2,
   "id": "95cde0d8-5ccd-4655-9cb5-0d2e5b50976a",
   "metadata": {},
   "outputs": [
    {
     "name": "stdout",
     "output_type": "stream",
     "text": [
      "('The era of minimalist white walls is over and now rooms are wanted to be '\n",
      " 'livened up with even more abundant decorations. Many people want to hang '\n",
      " 'authentic paintings in their homes, but if the purse strings are too tight '\n",
      " 'thinking about them, framed posters are a slightly more affordable option '\n",
      " 'for paintings.')\n"
     ]
    }
   ],
   "source": [
    "texts = [\"Minimalistinen valkoisten seinien aikakausi on ohi ja nyt huoneita halutaan piristää entistä runsaammin koristein. Moni haluaa ripustaa kotiinsa aitoja maalauksia, mutta mikäli kukkaron nyörit ovat turhan tiukalla niitä ajatellen, ovat kehystetyt julisteet hieman edullisempi vaihtoehto tauluiksi.\",\n",
    "        \"Eikä ollenkaan huono sellainen, sillä parhaimmillaan juliste voi olla myös erittäin hyvin tuottava sijoitus, jonka arvo nousee jopa vuodessa, kertoo Minna Sirén Helanderin huutokauppakamarista.\",\n",
    "        \"Julistesuunnittelun kultakausi oli Suomessa 1960-luvulla. Yksi suureen suosioon nousseista nimistä on graafinen suunnittelija Erik Bruun, 95, jonka käsialaa ovat esimerkiksi sellaiset klassikot kuten 1950-luvun Jaffa-limonadin mainokset ja saimaannorppajuliste 1970-luvulta. Toinen tunnettu nimi julistesuunnittelussa on graafinen suunnittelija Martti Mykkänen (1926-2008), jonka työn jälki on kaikille suomalaisille tuttu Väinö Linnan Tuntemattoman sotilaan kansikuvituksesta vuodelta 1954. Hän suunnitteli myös monia sodan jälkeisiä matkailujulisteita muun muassa ruotsinlaivoille. Kolmas kotimaisen julistetaiteen uranuurtaja on graafinen suunnittelija Pekka Loiri, 76. Hänen kynästään on lähtöisin muun muassa monia värikkäitä kulttuurijulisteita.\",\n",
    "        \"\"\"Bil-Bolista Artekiin\n",
    "        Tämän hetken suosituimpia sisustusjulisteita ovat design-esineitä esittelevät julisteet, maalauksista tehdyt julistevedokset sekä graafiset taidejulisteet. Omat faninsa on myös vanhoilla mainosjulisteilla.\n",
    "        – Esimerkiksi Artekin huonekaluja esittävien julisteiden hinnat ovat voineet nousta huutokaupassa jopa 400 euroon. Niillä on oma keräilijäkuntansa, Sirén kertoo.\n",
    "        Houkuttaakseen sisustajia julisteen ei tarvitse olla vanha.\n",
    "        – Nyt kaupoissa myynnissä olevan, mutta poistuvan julisteen hinta voi nousta vuodessa jopa 50 %. Satasen julisteesta saatat jo ensi vuonna saada 150 euroa, Sirén havainnollistaa.\n",
    "        Maailmallakin suosituista suomalaisjulisteista hyvä esimerkki on Akseli Gallen-Kallelan autoaiheinen Bil-Bol-juliste. Gallen-Kallela suunnitteli sen vuonna 1907. Ensipainoksesta peräisin oleva vanha juliste on tietysti erittäin arvokas, mutta myös tuoreempien jäljennösten hinta voi nousta yllättävän korkealle.\n",
    "        – Tällainen juliste on meillä myyty parilla sadalla eurolla, Sirén sanoo.\"\"\",\n",
    "        \"\"\"Kuntokaan ei ratkaise\n",
    "        Muuttuakseen rahaksi julisteen ei siis tarvitse olla vuosikymmenten takaa, mutta ei edes moitteettomassa kunnossa.\"\"\",\n",
    "        \"\"\"– Meillä on Ateneumin Alvar Aalto – Taide ja moderni muoto -näyttelyn mainosjuliste vuodelta 2017, joka on ihan törkeässä kunnossa. Meiltä on jo monta kertaa kysytty, millä hinnalla se lähtisi. Jos juliste näyttää kivalta, ajan patina ei haittaa ollenkaan, Sirén sanoo.\n",
    "        Ylipäätään harvinaisuus kumoaa kuntoon liittyvät tekijät. Julisteen hinta nousee myös silloin, jos kyseessä on numeroitu juliste. Hintaa nostaa painomerkintöjen lisäksi painojärjestys. Ensimmäiset vedokset sekä taiteilijan paperille tekemät hahmotelmat signeerauksella ovat painettuja versioita kalliimpia.\n",
    "        – Hinta riippuu paljon myös kuvasta. Suomalaiset design- ja matkailumainosjulisteet ovat nyt kuumimpia, Sirén toteaa.\"\"\",\n",
    "        \"\"\"Myynnistä poistuneesta uudehkosta julisteesta voi jälkimarkkinoilla Sirénin mukaan saada keskimäärin 70-120 €. Alkuperäisten 50-90-luvun julisteiden hinnat voivat kohota 100-300 euroon. Vielä vanhemmissa, esimerkiksi 1900-luvun alussa painetuissa julisteissa hinnat taas lasketaan tuhansissa euroissa. Samoin silloin, jos julisteen on tehnyt maineikas taiteilija kuten Andy Warhol.\n",
    "        Vanhojen julisteiden mukaan tehty uustuotanto maksaa muutamia kymmeniä euroja.\n",
    "        – Toki trendit aiheuttavat poikkeuksia. Artekin 75 -vuotisjuhlavuoden juliste oli ja on \"must have\" -hankinta, joka loppui hetkeksi vuonna 2021 kaikkialta. Se on uutena 110 euron luokkaa, mutta malttamattomimmat sisustajat olivat valmiita maksamaan siitä lähes 200 euroa Torin sekä muiden kanavien kautta, Sirén kertoo.\"\"\"]\n",
    "translator = TranslatorClass()\n",
    "\n",
    "sentences_translated=translator.translate(texts)\n",
    "pprint(sentences_translated[0])"
   ]
  },
  {
   "cell_type": "code",
   "execution_count": 10,
   "id": "b1e45c6f-f6da-4269-b7b5-3bb06053bace",
   "metadata": {},
   "outputs": [
    {
     "ename": "NameError",
     "evalue": "name 'sentences_translated' is not defined",
     "output_type": "error",
     "traceback": [
      "\u001b[0;31m---------------------------------------------------------------------------\u001b[0m",
      "\u001b[0;31mNameError\u001b[0m                                 Traceback (most recent call last)",
      "Input \u001b[0;32mIn [10]\u001b[0m, in \u001b[0;36m<cell line: 1>\u001b[0;34m()\u001b[0m\n\u001b[0;32m----> 1\u001b[0m sentences_translated_concatenated\u001b[38;5;241m=\u001b[39m\u001b[38;5;124m\"\u001b[39m\u001b[38;5;124m \u001b[39m\u001b[38;5;130;01m\\n\u001b[39;00m\u001b[38;5;124m\"\u001b[39m\u001b[38;5;241m.\u001b[39mjoin(\u001b[43msentences_translated\u001b[49m)\n",
      "\u001b[0;31mNameError\u001b[0m: name 'sentences_translated' is not defined"
     ]
    }
   ],
   "source": [
    "sentences_translated_concatenated=\" \\n\".join(sentences_translated)"
   ]
  },
  {
   "cell_type": "code",
   "execution_count": 11,
   "id": "ccec2fd9-648b-4b6f-9357-026b54c585d2",
   "metadata": {},
   "outputs": [
    {
     "ename": "OSError",
     "evalue": "[E050] Can't find model 'en_core_web_sm'. It doesn't seem to be a Python package or a valid path to a data directory.",
     "output_type": "error",
     "traceback": [
      "\u001b[0;31m---------------------------------------------------------------------------\u001b[0m",
      "\u001b[0;31mOSError\u001b[0m                                   Traceback (most recent call last)",
      "Input \u001b[0;32mIn [11]\u001b[0m, in \u001b[0;36m<cell line: 1>\u001b[0;34m()\u001b[0m\n\u001b[0;32m----> 1\u001b[0m analyser\u001b[38;5;241m=\u001b[39m\u001b[43mSentimentAnalyserClass\u001b[49m\u001b[43m(\u001b[49m\u001b[43m)\u001b[49m\n\u001b[1;32m      2\u001b[0m sentiments,assessments,tags,phrases\u001b[38;5;241m=\u001b[39manalyser\u001b[38;5;241m.\u001b[39mpredict(sentences_translated_concatenated)\n",
      "File \u001b[0;32m/opt/app/notebooks/spacy/SentimentAnalyserClass.py:6\u001b[0m, in \u001b[0;36mSentimentAnalyserClass.__init__\u001b[0;34m(self)\u001b[0m\n\u001b[1;32m      5\u001b[0m \u001b[38;5;28;01mdef\u001b[39;00m \u001b[38;5;21m__init__\u001b[39m(\u001b[38;5;28mself\u001b[39m):\n\u001b[0;32m----> 6\u001b[0m     \u001b[38;5;28mself\u001b[39m\u001b[38;5;241m.\u001b[39mnlp \u001b[38;5;241m=\u001b[39m \u001b[43mspacy\u001b[49m\u001b[38;5;241;43m.\u001b[39;49m\u001b[43mload\u001b[49m\u001b[43m(\u001b[49m\u001b[38;5;124;43m'\u001b[39;49m\u001b[38;5;124;43men_core_web_sm\u001b[39;49m\u001b[38;5;124;43m'\u001b[39;49m\u001b[43m)\u001b[49m\n\u001b[1;32m      7\u001b[0m     \u001b[38;5;28mself\u001b[39m\u001b[38;5;241m.\u001b[39mnlp\u001b[38;5;241m.\u001b[39madd_pipe(\u001b[38;5;124m\"\u001b[39m\u001b[38;5;124mspacytextblob\u001b[39m\u001b[38;5;124m\"\u001b[39m)\n",
      "File \u001b[0;32m/opt/conda/lib/python3.9/site-packages/spacy/__init__.py:54\u001b[0m, in \u001b[0;36mload\u001b[0;34m(name, vocab, disable, enable, exclude, config)\u001b[0m\n\u001b[1;32m     30\u001b[0m \u001b[38;5;28;01mdef\u001b[39;00m \u001b[38;5;21mload\u001b[39m(\n\u001b[1;32m     31\u001b[0m     name: Union[\u001b[38;5;28mstr\u001b[39m, Path],\n\u001b[1;32m     32\u001b[0m     \u001b[38;5;241m*\u001b[39m,\n\u001b[0;32m   (...)\u001b[0m\n\u001b[1;32m     37\u001b[0m     config: Union[Dict[\u001b[38;5;28mstr\u001b[39m, Any], Config] \u001b[38;5;241m=\u001b[39m util\u001b[38;5;241m.\u001b[39mSimpleFrozenDict(),\n\u001b[1;32m     38\u001b[0m ) \u001b[38;5;241m-\u001b[39m\u001b[38;5;241m>\u001b[39m Language:\n\u001b[1;32m     39\u001b[0m     \u001b[38;5;124;03m\"\"\"Load a spaCy model from an installed package or a local path.\u001b[39;00m\n\u001b[1;32m     40\u001b[0m \n\u001b[1;32m     41\u001b[0m \u001b[38;5;124;03m    name (str): Package name or model path.\u001b[39;00m\n\u001b[0;32m   (...)\u001b[0m\n\u001b[1;32m     52\u001b[0m \u001b[38;5;124;03m    RETURNS (Language): The loaded nlp object.\u001b[39;00m\n\u001b[1;32m     53\u001b[0m \u001b[38;5;124;03m    \"\"\"\u001b[39;00m\n\u001b[0;32m---> 54\u001b[0m     \u001b[38;5;28;01mreturn\u001b[39;00m \u001b[43mutil\u001b[49m\u001b[38;5;241;43m.\u001b[39;49m\u001b[43mload_model\u001b[49m\u001b[43m(\u001b[49m\n\u001b[1;32m     55\u001b[0m \u001b[43m        \u001b[49m\u001b[43mname\u001b[49m\u001b[43m,\u001b[49m\n\u001b[1;32m     56\u001b[0m \u001b[43m        \u001b[49m\u001b[43mvocab\u001b[49m\u001b[38;5;241;43m=\u001b[39;49m\u001b[43mvocab\u001b[49m\u001b[43m,\u001b[49m\n\u001b[1;32m     57\u001b[0m \u001b[43m        \u001b[49m\u001b[43mdisable\u001b[49m\u001b[38;5;241;43m=\u001b[39;49m\u001b[43mdisable\u001b[49m\u001b[43m,\u001b[49m\n\u001b[1;32m     58\u001b[0m \u001b[43m        \u001b[49m\u001b[43menable\u001b[49m\u001b[38;5;241;43m=\u001b[39;49m\u001b[43menable\u001b[49m\u001b[43m,\u001b[49m\n\u001b[1;32m     59\u001b[0m \u001b[43m        \u001b[49m\u001b[43mexclude\u001b[49m\u001b[38;5;241;43m=\u001b[39;49m\u001b[43mexclude\u001b[49m\u001b[43m,\u001b[49m\n\u001b[1;32m     60\u001b[0m \u001b[43m        \u001b[49m\u001b[43mconfig\u001b[49m\u001b[38;5;241;43m=\u001b[39;49m\u001b[43mconfig\u001b[49m\u001b[43m,\u001b[49m\n\u001b[1;32m     61\u001b[0m \u001b[43m    \u001b[49m\u001b[43m)\u001b[49m\n",
      "File \u001b[0;32m/opt/conda/lib/python3.9/site-packages/spacy/util.py:436\u001b[0m, in \u001b[0;36mload_model\u001b[0;34m(name, vocab, disable, enable, exclude, config)\u001b[0m\n\u001b[1;32m    434\u001b[0m \u001b[38;5;28;01mif\u001b[39;00m name \u001b[38;5;129;01min\u001b[39;00m OLD_MODEL_SHORTCUTS:\n\u001b[1;32m    435\u001b[0m     \u001b[38;5;28;01mraise\u001b[39;00m \u001b[38;5;167;01mIOError\u001b[39;00m(Errors\u001b[38;5;241m.\u001b[39mE941\u001b[38;5;241m.\u001b[39mformat(name\u001b[38;5;241m=\u001b[39mname, full\u001b[38;5;241m=\u001b[39mOLD_MODEL_SHORTCUTS[name]))  \u001b[38;5;66;03m# type: ignore[index]\u001b[39;00m\n\u001b[0;32m--> 436\u001b[0m \u001b[38;5;28;01mraise\u001b[39;00m \u001b[38;5;167;01mIOError\u001b[39;00m(Errors\u001b[38;5;241m.\u001b[39mE050\u001b[38;5;241m.\u001b[39mformat(name\u001b[38;5;241m=\u001b[39mname))\n",
      "\u001b[0;31mOSError\u001b[0m: [E050] Can't find model 'en_core_web_sm'. It doesn't seem to be a Python package or a valid path to a data directory."
     ]
    }
   ],
   "source": [
    "analyser=SentimentAnalyserClass()\n",
    "sentiments,assessments,tags,phrases=analyser.predict(sentences_translated_concatenated)\n"
   ]
  },
  {
   "cell_type": "markdown",
   "id": "d3b09e5c-4518-4b23-9b6b-6699f1a7aa0f",
   "metadata": {},
   "source": [
    "# Here we can see the evaluation of sentiment\n",
    "Polarity means how positively a subject or review is done. If it is 1 then it is extreamly positive if it is -1 then it is extreamly negative. Subjectivity describes how individual feelings the review or writing represents. \n",
    "\n",
    "When interpreting these results, it is important to remember how the model was trained. It is based on data available on internet such as IMDB etc. which effects the style of writing and assessment. Also the source data is not in same language, so there might be some differences in for example nuances that are lost in translation.\n"
   ]
  },
  {
   "cell_type": "code",
   "execution_count": 12,
   "id": "edddc1ed-2647-4c4b-9888-a96c6509b63e",
   "metadata": {},
   "outputs": [
    {
     "ename": "NameError",
     "evalue": "name 'sentiments' is not defined",
     "output_type": "error",
     "traceback": [
      "\u001b[0;31m---------------------------------------------------------------------------\u001b[0m",
      "\u001b[0;31mNameError\u001b[0m                                 Traceback (most recent call last)",
      "Input \u001b[0;32mIn [12]\u001b[0m, in \u001b[0;36m<cell line: 1>\u001b[0;34m()\u001b[0m\n\u001b[0;32m----> 1\u001b[0m pprint(\u001b[43msentiments\u001b[49m)\n",
      "\u001b[0;31mNameError\u001b[0m: name 'sentiments' is not defined"
     ]
    }
   ],
   "source": [
    "pprint(sentiments)"
   ]
  },
  {
   "cell_type": "markdown",
   "id": "0031b152-1c29-48d6-84ff-24fed2193b80",
   "metadata": {},
   "source": [
    " The end result is carefully positive for the article, which seems to be a bit understated, but acceptable result."
   ]
  }
 ],
 "metadata": {
  "kernelspec": {
   "display_name": "Python 3 (ipykernel)",
   "language": "python",
   "name": "python3"
  },
  "language_info": {
   "codemirror_mode": {
    "name": "ipython",
    "version": 3
   },
   "file_extension": ".py",
   "mimetype": "text/x-python",
   "name": "python",
   "nbconvert_exporter": "python",
   "pygments_lexer": "ipython3",
   "version": "3.9.10"
  }
 },
 "nbformat": 4,
 "nbformat_minor": 5
}
