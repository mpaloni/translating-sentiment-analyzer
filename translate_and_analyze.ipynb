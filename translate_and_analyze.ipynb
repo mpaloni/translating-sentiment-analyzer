{
 "cells": [
  {
   "cell_type": "code",
   "execution_count": 1,
   "id": "c3cd1c60-5c31-4e6c-be08-95c15605ed28",
   "metadata": {},
   "outputs": [],
   "source": [
    "from TranslatorClass import TranslatorClass\n",
    "from SentimentAnalyserClass import SentimentAnalyserClass\n",
    "from pprint import pprint"
   ]
  },
  {
   "cell_type": "code",
   "execution_count": 2,
   "id": "672ff454-5cdd-483f-962c-f70d815a85ac",
   "metadata": {},
   "outputs": [],
   "source": [
    "#!pip3 install spacy[transformers] torch spacytextblob\n",
    "#!python3 -m spacy download en_core_web_sm\n",
    "#!python -m textblob.download_corpora"
   ]
  },
  {
   "cell_type": "markdown",
   "id": "557c685d-b3cb-45b0-8c0e-0fed68f5e2f0",
   "metadata": {},
   "source": [
    "# Original article was chosen by random scrolling\n",
    "Source is https://www.iltalehti.fi/asumisartikkelit/a/2542c345-4d98-4fdf-b957-5bf21ba98e41"
   ]
  },
  {
   "cell_type": "code",
   "execution_count": 3,
   "id": "95cde0d8-5ccd-4655-9cb5-0d2e5b50976a",
   "metadata": {},
   "outputs": [
    {
     "name": "stdout",
     "output_type": "stream",
     "text": [
      "('The era of minimalist white walls is over and now rooms are wanted to be '\n",
      " 'livened up with even more abundant decorations. Many people want to hang '\n",
      " 'authentic paintings in their homes, but if the purse strings are too tight '\n",
      " 'thinking about them, framed posters are a slightly more affordable option '\n",
      " 'for paintings.')\n"
     ]
    }
   ],
   "source": [
    "texts = [\"Minimalistinen valkoisten seinien aikakausi on ohi ja nyt huoneita halutaan piristää entistä runsaammin koristein. Moni haluaa ripustaa kotiinsa aitoja maalauksia, mutta mikäli kukkaron nyörit ovat turhan tiukalla niitä ajatellen, ovat kehystetyt julisteet hieman edullisempi vaihtoehto tauluiksi.\",\n",
    "        \"Eikä ollenkaan huono sellainen, sillä parhaimmillaan juliste voi olla myös erittäin hyvin tuottava sijoitus, jonka arvo nousee jopa vuodessa, kertoo Minna Sirén Helanderin huutokauppakamarista.\",\n",
    "        \"Julistesuunnittelun kultakausi oli Suomessa 1960-luvulla. Yksi suureen suosioon nousseista nimistä on graafinen suunnittelija Erik Bruun, 95, jonka käsialaa ovat esimerkiksi sellaiset klassikot kuten 1950-luvun Jaffa-limonadin mainokset ja saimaannorppajuliste 1970-luvulta. Toinen tunnettu nimi julistesuunnittelussa on graafinen suunnittelija Martti Mykkänen (1926-2008), jonka työn jälki on kaikille suomalaisille tuttu Väinö Linnan Tuntemattoman sotilaan kansikuvituksesta vuodelta 1954. Hän suunnitteli myös monia sodan jälkeisiä matkailujulisteita muun muassa ruotsinlaivoille. Kolmas kotimaisen julistetaiteen uranuurtaja on graafinen suunnittelija Pekka Loiri, 76. Hänen kynästään on lähtöisin muun muassa monia värikkäitä kulttuurijulisteita.\",\n",
    "        \"\"\"Bil-Bolista Artekiin\n",
    "        Tämän hetken suosituimpia sisustusjulisteita ovat design-esineitä esittelevät julisteet, maalauksista tehdyt julistevedokset sekä graafiset taidejulisteet. Omat faninsa on myös vanhoilla mainosjulisteilla.\n",
    "        – Esimerkiksi Artekin huonekaluja esittävien julisteiden hinnat ovat voineet nousta huutokaupassa jopa 400 euroon. Niillä on oma keräilijäkuntansa, Sirén kertoo.\n",
    "        Houkuttaakseen sisustajia julisteen ei tarvitse olla vanha.\n",
    "        – Nyt kaupoissa myynnissä olevan, mutta poistuvan julisteen hinta voi nousta vuodessa jopa 50 %. Satasen julisteesta saatat jo ensi vuonna saada 150 euroa, Sirén havainnollistaa.\n",
    "        Maailmallakin suosituista suomalaisjulisteista hyvä esimerkki on Akseli Gallen-Kallelan autoaiheinen Bil-Bol-juliste. Gallen-Kallela suunnitteli sen vuonna 1907. Ensipainoksesta peräisin oleva vanha juliste on tietysti erittäin arvokas, mutta myös tuoreempien jäljennösten hinta voi nousta yllättävän korkealle.\n",
    "        – Tällainen juliste on meillä myyty parilla sadalla eurolla, Sirén sanoo.\"\"\",\n",
    "        \"\"\"Kuntokaan ei ratkaise\n",
    "        Muuttuakseen rahaksi julisteen ei siis tarvitse olla vuosikymmenten takaa, mutta ei edes moitteettomassa kunnossa.\"\"\",\n",
    "        \"\"\"– Meillä on Ateneumin Alvar Aalto – Taide ja moderni muoto -näyttelyn mainosjuliste vuodelta 2017, joka on ihan törkeässä kunnossa. Meiltä on jo monta kertaa kysytty, millä hinnalla se lähtisi. Jos juliste näyttää kivalta, ajan patina ei haittaa ollenkaan, Sirén sanoo.\n",
    "        Ylipäätään harvinaisuus kumoaa kuntoon liittyvät tekijät. Julisteen hinta nousee myös silloin, jos kyseessä on numeroitu juliste. Hintaa nostaa painomerkintöjen lisäksi painojärjestys. Ensimmäiset vedokset sekä taiteilijan paperille tekemät hahmotelmat signeerauksella ovat painettuja versioita kalliimpia.\n",
    "        – Hinta riippuu paljon myös kuvasta. Suomalaiset design- ja matkailumainosjulisteet ovat nyt kuumimpia, Sirén toteaa.\"\"\",\n",
    "        \"\"\"Myynnistä poistuneesta uudehkosta julisteesta voi jälkimarkkinoilla Sirénin mukaan saada keskimäärin 70-120 €. Alkuperäisten 50-90-luvun julisteiden hinnat voivat kohota 100-300 euroon. Vielä vanhemmissa, esimerkiksi 1900-luvun alussa painetuissa julisteissa hinnat taas lasketaan tuhansissa euroissa. Samoin silloin, jos julisteen on tehnyt maineikas taiteilija kuten Andy Warhol.\n",
    "        Vanhojen julisteiden mukaan tehty uustuotanto maksaa muutamia kymmeniä euroja.\n",
    "        – Toki trendit aiheuttavat poikkeuksia. Artekin 75 -vuotisjuhlavuoden juliste oli ja on \"must have\" -hankinta, joka loppui hetkeksi vuonna 2021 kaikkialta. Se on uutena 110 euron luokkaa, mutta malttamattomimmat sisustajat olivat valmiita maksamaan siitä lähes 200 euroa Torin sekä muiden kanavien kautta, Sirén kertoo.\"\"\"]\n",
    "translator = TranslatorClass()\n",
    "\n",
    "sentences_translated=translator.translate(texts)\n",
    "pprint(sentences_translated[0])"
   ]
  },
  {
   "cell_type": "code",
   "execution_count": 4,
   "id": "b1e45c6f-f6da-4269-b7b5-3bb06053bace",
   "metadata": {},
   "outputs": [],
   "source": [
    "sentences_translated_concatenated=\" \\n\".join(sentences_translated)"
   ]
  },
  {
   "cell_type": "code",
   "execution_count": 5,
   "id": "ccec2fd9-648b-4b6f-9357-026b54c585d2",
   "metadata": {},
   "outputs": [
    {
     "name": "stdout",
     "output_type": "stream",
     "text": [
      "Processing a string\n"
     ]
    }
   ],
   "source": [
    "analyser=SentimentAnalyserClass()\n",
    "sentiments,assessments,tags,phrases=analyser.predict(sentences_translated_concatenated)\n"
   ]
  },
  {
   "cell_type": "markdown",
   "id": "d3b09e5c-4518-4b23-9b6b-6699f1a7aa0f",
   "metadata": {},
   "source": [
    "# Here we can see the evaluation of sentiment\n",
    "Polarity means how positively a subject or review is done. If it is 1 then it is extreamly positive if it is -1 then it is extreamly negative. Subjectivity describes how individual feelings the review or writing represents. \n",
    "\n",
    "When interpreting these results, it is important to remember how the model was trained. It is based on data available on internet such as IMDB etc. which effects the style of writing and assessment. Also the source data is not in same language, so there might be some differences in for example nuances that are lost in translation.\n"
   ]
  },
  {
   "cell_type": "code",
   "execution_count": 6,
   "id": "edddc1ed-2647-4c4b-9888-a96c6509b63e",
   "metadata": {},
   "outputs": [
    {
     "name": "stdout",
     "output_type": "stream",
     "text": [
      "Sentiment(polarity=0.19682367383859917, subjectivity=0.4791942882987657)\n"
     ]
    }
   ],
   "source": [
    "pprint(sentiments)"
   ]
  },
  {
   "cell_type": "markdown",
   "id": "0031b152-1c29-48d6-84ff-24fed2193b80",
   "metadata": {},
   "source": [
    " The end result is carefully positive for the article, which seems to be a bit understated, but acceptable result."
   ]
  }
 ],
 "metadata": {
  "kernelspec": {
   "display_name": "Python 3 (ipykernel)",
   "language": "python",
   "name": "python3"
  },
  "language_info": {
   "codemirror_mode": {
    "name": "ipython",
    "version": 3
   },
   "file_extension": ".py",
   "mimetype": "text/x-python",
   "name": "python",
   "nbconvert_exporter": "python",
   "pygments_lexer": "ipython3",
   "version": "3.9.10"
  }
 },
 "nbformat": 4,
 "nbformat_minor": 5
}
